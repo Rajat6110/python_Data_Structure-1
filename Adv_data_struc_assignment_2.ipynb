{
 "cells": [
  {
   "cell_type": "markdown",
   "id": "012c1037-1fe9-4f21-a348-96ecd4cf862f",
   "metadata": {},
   "source": [
    "# question 1\n",
    "# Write a code to reverse a string.\n"
   ]
  },
  {
   "cell_type": "code",
   "execution_count": 1,
   "id": "705875cc-4438-4cfd-9b78-141598caa212",
   "metadata": {},
   "outputs": [
    {
     "name": "stdout",
     "output_type": "stream",
     "text": [
      " erodni morf hsetimA ma' i , ollEH\n"
     ]
    }
   ],
   "source": [
    "#through slicing \n",
    "str1 = \"HEllo , i 'am Amitesh from indore \"\n",
    "rev_str = str1[::-1]\n",
    "print(rev_str)"
   ]
  },
  {
   "cell_type": "code",
   "execution_count": 2,
   "id": "5fed5c65-ff00-4e75-891c-1a02cd413fe0",
   "metadata": {},
   "outputs": [
    {
     "name": "stdout",
     "output_type": "stream",
     "text": [
      " erodni morf hsetimA ma' i , ollEH\n"
     ]
    }
   ],
   "source": [
    "# through for loop\n",
    "\n",
    "str1 = \"HEllo , i 'am Amitesh from indore \"\n",
    "rev_str1 = \"\"\n",
    "for i in str1:\n",
    "    rev_str1 = i + rev_str1\n",
    "print(rev_str1)\n",
    "    "
   ]
  },
  {
   "cell_type": "markdown",
   "id": "f3d47ae7-daf4-444c-adfa-9e8eb5a31174",
   "metadata": {},
   "source": [
    "# Question 2\n",
    "## Write a code to count the number of vowels in a string."
   ]
  },
  {
   "cell_type": "code",
   "execution_count": 3,
   "id": "9eb2a64e-2ff1-4209-a5b7-c6374deb1cae",
   "metadata": {},
   "outputs": [
    {
     "name": "stdin",
     "output_type": "stream",
     "text": [
      "enter a string  \"amitesh\"\n"
     ]
    },
    {
     "name": "stdout",
     "output_type": "stream",
     "text": [
      "you have enterd : \"amitesh\"\n",
      "the no of vowel in string is : 3\n"
     ]
    }
   ],
   "source": [
    "string = input(\"enter a string \")\n",
    "str = string.lower()\n",
    "print(\"you have enterd :\", str)\n",
    "count = 0\n",
    "list = [ \"a\" , \"e\" , \"i\" , \"o\" , \"u\"]\n",
    "for i in str:\n",
    "        if i in list:\n",
    "            count = count + 1\n",
    "print(\"the no of vowel in string is :\" , count)\n"
   ]
  },
  {
   "cell_type": "markdown",
   "id": "c80dd83e-0c5f-43c0-a9ac-73bf3b2e6c7a",
   "metadata": {},
   "source": [
    "# Question 3\n",
    "## Write a code to check if a given string is a palindrome or not"
   ]
  },
  {
   "cell_type": "code",
   "execution_count": 4,
   "id": "ab46c585-3628-4173-ac94-32b44434abcb",
   "metadata": {},
   "outputs": [
    {
     "name": "stdin",
     "output_type": "stream",
     "text": [
      "enter your string amitesh\n"
     ]
    },
    {
     "name": "stdout",
     "output_type": "stream",
     "text": [
      "NO , it's not a palindorme .\n"
     ]
    }
   ],
   "source": [
    "string = input(\"enter your string\")\n",
    "rev_str = string[::-1]\n",
    "if string == rev_str:\n",
    "    print(\"Your Number is palindorme\")\n",
    "else:\n",
    "    print(\"NO , it's not a palindorme .\")\n",
    "    \n",
    "    #palindrome no - 121 == 121 , madam == madam \n",
    "        \n",
    "          "
   ]
  },
  {
   "cell_type": "markdown",
   "id": "2913e443-7a60-4f26-bbb6-a7acab0b4b81",
   "metadata": {},
   "source": [
    "# Question 4\n",
    "## Write a code to check if two given strings are anagrams of each other"
   ]
  },
  {
   "cell_type": "code",
   "execution_count": 2,
   "id": "5db8a038-76c4-495c-aa9b-5f696f4d94a0",
   "metadata": {},
   "outputs": [
    {
     "name": "stdin",
     "output_type": "stream",
     "text": [
      "enter first string heart\n",
      "enter second string: earth\n"
     ]
    },
    {
     "name": "stdout",
     "output_type": "stream",
     "text": [
      "yes , both strings are anagrams of each other\n"
     ]
    }
   ],
   "source": [
    "\n",
    "\n",
    "string1 = input(\"enter first string\")\n",
    "string2  = input(\"enter second string:\")\n",
    "sorted_str = sorted(string1)\n",
    "sorted_str2 = sorted(string2)\n",
    "if sorted_str == sorted_str2:\n",
    "    print(\"yes , both strings are anagrams of each other\")\n",
    "else:\n",
    "    print(\"no , both are not anagrams\")\n"
   ]
  },
  {
   "cell_type": "markdown",
   "id": "bd4316f4-cc72-46a4-9693-10381a027445",
   "metadata": {},
   "source": [
    "# question 5\n",
    "## Write a code to find all occurrences of a given substring within another string\n"
   ]
  },
  {
   "cell_type": "code",
   "execution_count": 66,
   "id": "3571d52e-62e3-49b9-8dd2-79157d21affb",
   "metadata": {},
   "outputs": [
    {
     "name": "stdin",
     "output_type": "stream",
     "text": [
      "Enter the main string:  hello rajat , hello amit\n",
      "Enter the substring to find:  hello\n"
     ]
    },
    {
     "name": "stdout",
     "output_type": "stream",
     "text": [
      "Occurrences: [0, 14]\n"
     ]
    }
   ],
   "source": [
    "\n",
    "main_string = input(\"Enter the main string: \")\n",
    "substring = input(\"Enter the substring to find: \")\n",
    "\n",
    "\n",
    "occurrences = []\n",
    "n = len(main_string)\n",
    "m = len(substring)\n",
    "\n",
    "\n",
    "for i in range(n - m + 1):\n",
    "    if main_string[i:i + m] == substring:\n",
    "        occurrences.append(i)\n",
    "\n",
    "\n",
    "print(\"Occurrences:\", occurrences)\n"
   ]
  },
  {
   "cell_type": "markdown",
   "id": "aff0c202-f928-4a07-9b5c-7e63004e87cd",
   "metadata": {},
   "source": [
    "# Question 6\n",
    "\n",
    "## Write a code to perform basic string compression using the counts of repeated characters."
   ]
  },
  {
   "cell_type": "code",
   "execution_count": null,
   "id": "b8c21da5-dc05-4d14-aaad-e64cd870c822",
   "metadata": {},
   "outputs": [],
   "source": [
    "string = input(\"Enter a string: \")\n",
    "char = string[0]\n",
    "result = \"\"\n",
    "count = 0\n",
    "string = string + \" \"  # Add a space to handle the last character group\n",
    "\n",
    "for x in string:\n",
    "    if x == char:\n",
    "        count += 1\n",
    "    else:\n",
    "        result += char + str(count)  # Append the character and its count to the result\n",
    "        char = x\n",
    "        count = 1\n",
    "\n",
    "print(result)\n"
   ]
  },
  {
   "cell_type": "markdown",
   "id": "bc248c6f-e3f7-4a3b-97fa-72e33080b532",
   "metadata": {},
   "source": [
    "# QUESTION 7\n",
    "## WRITE A CODE TO DETERMINE IF A STRING HAS ALL UNIQUE CHARCTERS"
   ]
  },
  {
   "cell_type": "code",
   "execution_count": 63,
   "id": "b40380ba-6dea-41d1-bb8f-e05b926ac569",
   "metadata": {},
   "outputs": [
    {
     "name": "stdin",
     "output_type": "stream",
     "text": [
      "Enter a string:  amitesh\n"
     ]
    },
    {
     "name": "stdout",
     "output_type": "stream",
     "text": [
      "All characters are unique:\n"
     ]
    }
   ],
   "source": [
    "\n",
    "input_string = input(\"Enter a string: \")\n",
    "\n",
    "\n",
    "seen = set()\n",
    "\n",
    "# Check for unique characters\n",
    "has_all_unique = True\n",
    "for char in input_string:\n",
    "    if char in seen:\n",
    "        has_all_unique = False\n",
    "        break\n",
    "    seen.add(char)\n",
    "\n",
    "\n",
    "print(\"All characters are unique:\" if has_all_unique else \"Characters are not unique.\")\n"
   ]
  },
  {
   "cell_type": "code",
   "execution_count": null,
   "id": "1d5ffefb-f90e-48cc-b73e-9ecce7e3979f",
   "metadata": {},
   "outputs": [],
   "source": [
    "# "
   ]
  },
  {
   "cell_type": "markdown",
   "id": "2029b286-0c7d-4764-888b-52f9401a9c74",
   "metadata": {},
   "source": [
    "# QUESTION 8\n",
    "## WRITE A CODE TO CONVERT A GIVEN STRING TO UPPERCASE OR LOWERCASE"
   ]
  },
  {
   "cell_type": "code",
   "execution_count": 5,
   "id": "9a5f4d58-3a1c-4203-8298-e0886e7c18dd",
   "metadata": {},
   "outputs": [
    {
     "name": "stdin",
     "output_type": "stream",
     "text": [
      "enter the string hello sir good morning\n"
     ]
    },
    {
     "name": "stdout",
     "output_type": "stream",
     "text": [
      "the uppercase will be  HELLO SIR GOOD MORNING\n",
      "the lowercase will be  hello sir good morning\n"
     ]
    }
   ],
   "source": [
    "string = input(\"enter the string\")\n",
    "upper = string.upper()\n",
    "lower = string.lower()\n",
    "print(\"the uppercase will be \" ,upper)\n",
    "print(\"the lowercase will be \" , lower)"
   ]
  },
  {
   "cell_type": "markdown",
   "id": "5b59b2f0-a0ba-448c-bd2f-f7279b7843ea",
   "metadata": {},
   "source": [
    "# Question 9 \n",
    "## Write a code to count the number of words in a string "
   ]
  },
  {
   "cell_type": "code",
   "execution_count": 6,
   "id": "7dfff1e7-b2ec-42e5-93f6-62561c346f48",
   "metadata": {},
   "outputs": [
    {
     "name": "stdin",
     "output_type": "stream",
     "text": [
      "enter a string: acha ji batao kya krna\n"
     ]
    },
    {
     "name": "stdout",
     "output_type": "stream",
     "text": [
      "5\n"
     ]
    }
   ],
   "source": [
    "st = input(\"enter a string:\")\n",
    "string = st.split()\n",
    "print(len(string))"
   ]
  },
  {
   "cell_type": "markdown",
   "id": "e6736720-a5fa-4f35-91cc-5ea7a20ebb02",
   "metadata": {},
   "source": [
    "# Question  10\n",
    "## write a code to concatenate two strings without using + operator"
   ]
  },
  {
   "cell_type": "code",
   "execution_count": 7,
   "id": "8ca61e23-0c45-4b81-952c-6ec341da30b8",
   "metadata": {},
   "outputs": [
    {
     "name": "stdin",
     "output_type": "stream",
     "text": [
      "enter first string PW \n",
      "enter second string SKILLS\n"
     ]
    },
    {
     "name": "stdout",
     "output_type": "stream",
     "text": [
      "PW  SKILLS\n"
     ]
    }
   ],
   "source": [
    "str1 = input(\"enter first string\")\n",
    "str2 = input(\"enter second string\")\n",
    "\n",
    "string = \" \".join([str1,str2])\n",
    "print(string)"
   ]
  },
  {
   "cell_type": "markdown",
   "id": "03e14980-8804-4317-9e30-550ca440d40b",
   "metadata": {},
   "source": [
    "# Question 11\n",
    "## Write a code to remove all occurences of a specicfic element from a list"
   ]
  },
  {
   "cell_type": "code",
   "execution_count": 8,
   "id": "8c1de3d1-cb68-4742-9be7-f055f121cbcd",
   "metadata": {},
   "outputs": [
    {
     "name": "stdout",
     "output_type": "stream",
     "text": [
      "[1, 2, 4, 5]\n"
     ]
    }
   ],
   "source": [
    "my_list = [1, 2, 3, 4, 3, 5, 3]\n",
    "remove = 3\n",
    "\n",
    "# Removing all occurrences of the element\n",
    "while remove in my_list:\n",
    "    my_list.remove(remove)\n",
    "print(my_list)\n"
   ]
  },
  {
   "cell_type": "markdown",
   "id": "dab84ddc-f83c-4aff-923d-57f6113b7527",
   "metadata": {},
   "source": [
    "#another way"
   ]
  },
  {
   "cell_type": "code",
   "execution_count": 9,
   "id": "31c3c63e-48d8-49a9-8296-611dc000f23d",
   "metadata": {},
   "outputs": [
    {
     "name": "stdout",
     "output_type": "stream",
     "text": [
      "[1, 2, 4, 5]\n"
     ]
    }
   ],
   "source": [
    "my_list = [1, 2, 3, 4, 3, 5, 3]\n",
    "element_to_remove = 3\n",
    "\n",
    "# Removing all occurrences of the element\n",
    "my_list = [item for item in my_list if item != element_to_remove]\n",
    "\n",
    "print(my_list)"
   ]
  },
  {
   "cell_type": "markdown",
   "id": "2157b33b-1894-4c94-8815-c0cdef062b60",
   "metadata": {},
   "source": [
    "# Question 12\n",
    "\n",
    "## 12.\tImplement a code to find the second largest number in a given list of integers"
   ]
  },
  {
   "cell_type": "code",
   "execution_count": 10,
   "id": "8c28818c-36aa-4e84-ad3b-86c0150b88e2",
   "metadata": {},
   "outputs": [
    {
     "name": "stdout",
     "output_type": "stream",
     "text": [
      "[3, 4, 5, 9, 253, 564]\n",
      "the second laregest no in list will be :  253\n"
     ]
    }
   ],
   "source": [
    "str1 = [4,5,3,9,253,564]\n",
    "str1.sort()\n",
    "print(str1)\n",
    "print(\"the second laregest no in list will be : \" , str1[-2])"
   ]
  },
  {
   "cell_type": "markdown",
   "id": "17ee4bc1-03d5-46bb-894f-9c6770cc3768",
   "metadata": {},
   "source": [
    "# Question 13\n",
    "## 13.\tCreate a code to count the occurrences of each element in a list and return a dictionary with elements as keys and their counts as values"
   ]
  },
  {
   "cell_type": "code",
   "execution_count": 11,
   "id": "8a478862-2309-4a95-9e6e-158da072d2e4",
   "metadata": {},
   "outputs": [
    {
     "name": "stdout",
     "output_type": "stream",
     "text": [
      "{1: 3, 2: 3, 3: 2, 4: 2, 5: 1}\n"
     ]
    }
   ],
   "source": [
    "list_hai = [ 1,1,1,2,3,2,2,3,4,4,5]\n",
    "f = {}\n",
    "for i in list_hai:\n",
    "    if i in f:\n",
    "        f[i] += 1\n",
    "    else:\n",
    "        f[i] = 1\n",
    "print(f)"
   ]
  },
  {
   "cell_type": "markdown",
   "id": "e0814de4-e118-40ff-b692-a7fd5e0690a2",
   "metadata": {},
   "source": [
    "# question 14\n",
    "## 14.\tWrite a code to reverse a list in-place without using any built-in reverse functions"
   ]
  },
  {
   "cell_type": "code",
   "execution_count": 60,
   "id": "8ccc88a3-1f7e-4962-ba8a-3aea7b774b56",
   "metadata": {},
   "outputs": [
    {
     "name": "stdin",
     "output_type": "stream",
     "text": [
      "Enter the list of elements separated by commas  1,2,3,4,5,6\n"
     ]
    },
    {
     "name": "stdout",
     "output_type": "stream",
     "text": [
      "Reversed list: ['6', '5', '4', '3', '2', '1']\n"
     ]
    }
   ],
   "source": [
    "\n",
    "input_list = input(\"Enter the list of elements separated by commas \").split(',')\n",
    "\n",
    "input_list[:] = input_list[::-1]\n",
    "\n",
    "\n",
    "print(\"Reversed list:\", input_list)\n"
   ]
  },
  {
   "cell_type": "markdown",
   "id": "03dd7920-a765-49d9-8909-e3d406ad81e5",
   "metadata": {},
   "source": [
    "# Question 15\n",
    "## 15.\tImplement a code to find and remove duplicates from a list while preserving the original order of elements"
   ]
  },
  {
   "cell_type": "code",
   "execution_count": 62,
   "id": "56ccd127-4058-4adf-b642-3b4edf2806e0",
   "metadata": {},
   "outputs": [
    {
     "name": "stdin",
     "output_type": "stream",
     "text": [
      "Enter the list of elements separated by commas   55,6,55,7,4,2,4\n"
     ]
    },
    {
     "name": "stdout",
     "output_type": "stream",
     "text": [
      "List with duplicates removed: ['55', '6', '7', '4', '2']\n"
     ]
    }
   ],
   "source": [
    "\n",
    "input_list = input(\"Enter the list of elements separated by commas  \").split(',')\n",
    "\n",
    "\n",
    "seen = set()\n",
    "\n",
    "\n",
    "unique_list = [item for item in input_list if not (item in seen or seen.add(item))]\n",
    "\n",
    "print(\"List with duplicates removed:\", unique_list)\n"
   ]
  },
  {
   "cell_type": "markdown",
   "id": "2a0731ec-d778-41d7-a39d-487a393622d0",
   "metadata": {},
   "source": [
    "# Question 16\n",
    "## 16.\tCreate a code to check if a given list is sorted (either in ascending or descending order) or not"
   ]
  },
  {
   "cell_type": "code",
   "execution_count": 13,
   "id": "bd13bb3c-abd5-45a3-b330-16b4a29f2649",
   "metadata": {},
   "outputs": [
    {
     "name": "stdin",
     "output_type": "stream",
     "text": [
      "enter list 2,3,4\n"
     ]
    },
    {
     "name": "stdout",
     "output_type": "stream",
     "text": [
      "the given list is in ascending order\n"
     ]
    }
   ],
   "source": [
    "l1 = input(\"enter list\").split()\n",
    "asec = sorted(l1)\n",
    "desc = sorted(l1 , reverse = True)\n",
    "\n",
    "if l1 == asec:\n",
    "    print(\"the given list is in ascending order\")\n",
    "elif l1 == desc:\n",
    "    print(\"the given list is in descending order\")\n",
    "else:\n",
    "    print(\"The list is not sorted\")"
   ]
  },
  {
   "cell_type": "markdown",
   "id": "b30d2545-8c08-409a-899b-aa0dc968fc13",
   "metadata": {},
   "source": [
    "# Question 17\n",
    "## 17.\tWrite a code to merge two sorted lists into a single sorted list"
   ]
  },
  {
   "cell_type": "code",
   "execution_count": 17,
   "id": "9b709eb6-35b7-4ea8-823f-fd708e66c482",
   "metadata": {},
   "outputs": [
    {
     "name": "stdin",
     "output_type": "stream",
     "text": [
      "enter the element you want in list 2\n",
      "enter the element 3\n",
      "enter the element 56\n"
     ]
    },
    {
     "name": "stdout",
     "output_type": "stream",
     "text": [
      "the list you enterd ['3', '56']\n"
     ]
    },
    {
     "name": "stdin",
     "output_type": "stream",
     "text": [
      "enter the element you want in second list 2\n",
      "enter the elements 58\n",
      "enter the elements 1\n"
     ]
    },
    {
     "name": "stdout",
     "output_type": "stream",
     "text": [
      "the list you enterd ['58', '1']\n",
      "The merged list is :  ['3', '56', '58', '1']\n",
      "the final sorted list will be :  ['1', '3', '56', '58']\n"
     ]
    }
   ],
   "source": [
    "n1 = int(input(\"enter the element you want in list\"))\n",
    "l1 = []\n",
    "for i in range(n1):\n",
    "    a = input('enter the element')\n",
    "    l1.append(a)\n",
    "print(\"the list you enterd\" , l1)\n",
    "\n",
    "    \n",
    "n2 = int(input('enter the element you want in second list'))\n",
    "l2 = []\n",
    "for i in range(n2):\n",
    "    b = input(\"enter the elements\")\n",
    "    l2.append(b)\n",
    "    \n",
    "print(\"the list you enterd\" , l2)\n",
    "\n",
    "\n",
    "m3 = l1 + l2\n",
    "print(\"The merged list is : \" , m3)\n",
    "\n",
    "m3.sort()\n",
    "print(\"the final sorted list will be : \" , m3)\n",
    "\n",
    "# 17 ka\n"
   ]
  },
  {
   "cell_type": "markdown",
   "id": "ba2613b2-d386-43ca-bee9-0b74a6e93c95",
   "metadata": {},
   "source": [
    "#  Question 18\n",
    "## 18.\tImplement a code to find the intersection of two given lists"
   ]
  },
  {
   "cell_type": "code",
   "execution_count": 19,
   "id": "884125bf-8b73-4b9c-849c-f07667836e12",
   "metadata": {},
   "outputs": [
    {
     "name": "stdin",
     "output_type": "stream",
     "text": [
      "enter the elements 1 2 3 4\n",
      "enter the elements 1 2 5 6\n"
     ]
    },
    {
     "name": "stdout",
     "output_type": "stream",
     "text": [
      "['1', '2']\n"
     ]
    }
   ],
   "source": [
    "l1 = input(\"enter the elements\").split()\n",
    "l2 = input(\"enter the elements\").split()\n",
    "intersec = list(set(l1) & set(l2))\n",
    "print(intersec)"
   ]
  },
  {
   "cell_type": "markdown",
   "id": "441f7f84-eed0-4626-a40c-7882a29d7583",
   "metadata": {},
   "source": [
    "# Question 19\n",
    "## 19.\tCreate a code to find the union of two lists without duplicates"
   ]
  },
  {
   "cell_type": "code",
   "execution_count": 20,
   "id": "2841c58c-8de1-4707-b9be-4333dca0b5d7",
   "metadata": {},
   "outputs": [
    {
     "name": "stdout",
     "output_type": "stream",
     "text": [
      "[1, 2, 3, 4, 5, 6, 7, 8]\n"
     ]
    }
   ],
   "source": [
    "l1 = [1, 2, 3, 4, 5]\n",
    "l2 = [4, 5, 6, 7, 8]\n",
    "\n",
    "Union = list(set(l1) | set(l2))\n",
    "print(Union)"
   ]
  },
  {
   "cell_type": "markdown",
   "id": "04c15454-fabf-4f6b-9d17-652725f03dda",
   "metadata": {},
   "source": [
    "# Question 20\n",
    "## 20.\tWrite a code to shuffle a given list randomly without using any built-in shuffle functions"
   ]
  },
  {
   "cell_type": "code",
   "execution_count": 21,
   "id": "07f8a602-aeb7-4482-bed0-902e695adb56",
   "metadata": {},
   "outputs": [
    {
     "name": "stdout",
     "output_type": "stream",
     "text": [
      "[9, 3, 6, 2, 5, 4, 8, 7, 1]\n"
     ]
    }
   ],
   "source": [
    "import random\n",
    "lst = [1, 2, 3, 4, 5, 6, 7, 8, 9]\n",
    "\n",
    "for i in range(len(lst)):\n",
    "    j = random.randint(0, len(lst) - 1)\n",
    "    lst[i], lst[j] = lst[j], lst[i]\n",
    "\n",
    "\n",
    "print(lst)\n"
   ]
  },
  {
   "cell_type": "markdown",
   "id": "6c8752c7-900b-4f4e-ad05-0f3066c2ced1",
   "metadata": {},
   "source": [
    "# Question 21\n",
    "## \tWrite a code that takes two tuples as input and returns a new tuple containing elements that are common to both input tuples"
   ]
  },
  {
   "cell_type": "code",
   "execution_count": 26,
   "id": "8617c06a-8bf5-4931-bb7c-b7c2c1604799",
   "metadata": {},
   "outputs": [
    {
     "name": "stdout",
     "output_type": "stream",
     "text": [
      "(9, 4, 5)\n"
     ]
    }
   ],
   "source": [
    "\n",
    "tuple1 = (1, 3, 4, 5 , 9)\n",
    "tuple2 = (4, 5, 8 , 9)\n",
    "\n",
    "# Find common elements using set intersection\n",
    "common_elements = tuple(set(tuple1) & set(tuple2))\n",
    "\n",
    "\n",
    "print(common_elements)\n"
   ]
  },
  {
   "cell_type": "markdown",
   "id": "163826e5-48cd-4e80-a975-8733b492650a",
   "metadata": {},
   "source": [
    "# Question 22\n",
    "## 22.\tCreate a code that prompts the user to enter two sets of integers separated by commas.\n",
    "## Then, print the intersection of these two sets"
   ]
  },
  {
   "cell_type": "code",
   "execution_count": 30,
   "id": "83504437-cfb5-49e1-8359-60c0f531bdd5",
   "metadata": {},
   "outputs": [
    {
     "name": "stdin",
     "output_type": "stream",
     "text": [
      "enter the set integers (sep by , )  1,2,3,4,4,5\n",
      "enter the set intergers (sep bt , ) 2,3,4,5,6,7,8,9\n"
     ]
    },
    {
     "name": "stdout",
     "output_type": "stream",
     "text": [
      "{'2', '3', '4', '5'}\n"
     ]
    }
   ],
   "source": [
    "s1 = set(input(\"enter the set integers (sep by , ) \").split(','))\n",
    "s2 = set(input(\"enter the set intergers (sep bt , )\").split(','))\n",
    "\n",
    "intersection = s1 & s2\n",
    "\n",
    "print(intersection)"
   ]
  },
  {
   "cell_type": "markdown",
   "id": "7f6160b6-07ad-4c38-8d9a-a0576d43240e",
   "metadata": {},
   "source": [
    "# Question 23\n",
    "## 23.\tWrite a code to concatenate two tuples. The function should take two tuples as input and return a new tuple containing elements from both input tuples"
   ]
  },
  {
   "cell_type": "code",
   "execution_count": 38,
   "id": "dd83ff67-b4c3-4656-8978-df4f571e1c09",
   "metadata": {},
   "outputs": [
    {
     "name": "stdout",
     "output_type": "stream",
     "text": [
      "Concatenated tuple: (1, 2, 3, 4, 5, 6)\n"
     ]
    }
   ],
   "source": [
    "def concatenate_tuples(tuple1, tuple2):\n",
    "    return tuple1 + tuple2\n",
    "\n",
    "tuple1 = (1, 2, 3)\n",
    "tuple2 = (4, 5, 6)\n",
    "\n",
    "\n",
    "result = concatenate_tuples(tuple1, tuple2)\n",
    "\n",
    "\n",
    "print(\"Concatenated tuple:\", result)\n"
   ]
  },
  {
   "cell_type": "markdown",
   "id": "c69ee66e-32fe-4747-b821-9903a1b2130e",
   "metadata": {},
   "source": [
    "# Question 24\n",
    "## 24.\tDevelop a code that prompts the user to input two sets of strings. Then, print the elements that are present in the first set but not in the second set"
   ]
  },
  {
   "cell_type": "code",
   "execution_count": 39,
   "id": "70e55a36-0d2d-47d2-ad8d-8ef9fd2d676b",
   "metadata": {},
   "outputs": [
    {
     "name": "stdin",
     "output_type": "stream",
     "text": [
      "Enter the elements of the first set separated by commas:  cooking , eating , studying , walking\n",
      "Enter the elements of the second set separated by commas:  cooking , eating \n"
     ]
    },
    {
     "name": "stdout",
     "output_type": "stream",
     "text": [
      "Elements in the first set but not in the second set: {' walking', ' studying '}\n"
     ]
    }
   ],
   "source": [
    "\n",
    "set1 = set(input(\"Enter the elements of the first set separated by commas: \").split(','))\n",
    "set2 = set(input(\"Enter the elements of the second set separated by commas: \").split(','))\n",
    "\n",
    "\n",
    "difference = set1 - set2\n",
    "\n",
    "\n",
    "print(\"Elements in the first set but not in the second set:\", difference)\n"
   ]
  },
  {
   "cell_type": "markdown",
   "id": "9b04f5a7-8563-4a43-9a63-8498a98b8ef2",
   "metadata": {},
   "source": [
    "# Question 25\n",
    "## 25.\tCreate a code that takes a tuple and two integers as input. The function should return a new tuple containing elements from the original tuple within the specified range of indices"
   ]
  },
  {
   "cell_type": "code",
   "execution_count": 40,
   "id": "f87cfa19-a019-4aa9-9c0e-9909a834a4a2",
   "metadata": {},
   "outputs": [
    {
     "name": "stdin",
     "output_type": "stream",
     "text": [
      "Enter the start index:  1\n",
      "Enter the end index:  4\n"
     ]
    },
    {
     "name": "stdout",
     "output_type": "stream",
     "text": [
      "Sliced tuple: (20, 37, 45)\n"
     ]
    }
   ],
   "source": [
    "def slice_tuple(original_tuple, start_index, end_index):\n",
    "    return original_tuple[start_index:end_index]\n",
    "\n",
    "original_tuple = (10, 20, 37, 45 , 11, 98 )\n",
    "\n",
    "\n",
    "start_index = int(input(\"Enter the start index: \"))\n",
    "end_index = int(input(\"Enter the end index: \"))\n",
    "\n",
    "\n",
    "result = slice_tuple(original_tuple, start_index, end_index)\n",
    "\n",
    "# Print the result\n",
    "print(\"Sliced tuple:\", result)\n"
   ]
  },
  {
   "cell_type": "markdown",
   "id": "074c2a46-35d0-4fd2-8d8c-9f3c59bd8bed",
   "metadata": {},
   "source": [
    "# Question 27\n",
    "## 27.\tDevelop a code that takes a tuple of integers as input. The function should return the maximum and minimum values from the tuple using tuple unpacking\n"
   ]
  },
  {
   "cell_type": "code",
   "execution_count": 43,
   "id": "848faa91-6b94-4908-8eb4-86121b811643",
   "metadata": {},
   "outputs": [
    {
     "name": "stdin",
     "output_type": "stream",
     "text": [
      "Enter the elements of the tuple separated by commas:  22,3443,4,5,4443\n"
     ]
    },
    {
     "name": "stdout",
     "output_type": "stream",
     "text": [
      "Maximum value: 5\n",
      "Minimum value: 22\n"
     ]
    }
   ],
   "source": [
    "def maxmin(t1):\n",
    "    max_val = max(t1)\n",
    "    min_val = min(t1)\n",
    "    return max_val, min_val \n",
    "\n",
    "t1 = tuple( input(\"Enter the elements of the tuple separated by commas: \").split(','))\n",
    "\n",
    "\n",
    "max_val, min_val = maxmin(t1)\n",
    "\n",
    "# Print the result\n",
    "print(f\"Maximum value: {max_val}\")\n",
    "print(f\"Minimum value: {min_val}\")\n",
    "#"
   ]
  },
  {
   "cell_type": "markdown",
   "id": "8d5a2135-420b-4651-abe1-b3557bc89606",
   "metadata": {},
   "source": [
    "# Question 26\n",
    "## 26.\tWrite a code that prompts the user to input two sets of characters. Then, print the union of these two sets"
   ]
  },
  {
   "cell_type": "code",
   "execution_count": 44,
   "id": "56d86683-36b4-4c26-84bb-b2bc899bb87b",
   "metadata": {},
   "outputs": [
    {
     "name": "stdin",
     "output_type": "stream",
     "text": [
      "Enter the characters of the first set separated by commas:  a,b,x,d,e,r,f\n",
      "Enter the characters of the second set separated by commas:  g,r,d,g\n"
     ]
    },
    {
     "name": "stdout",
     "output_type": "stream",
     "text": [
      "Union of the two sets: {'b', 'a', 'e', 'd', 'f', 'g', 'x', 'r'}\n"
     ]
    }
   ],
   "source": [
    "\n",
    "set1 = set(input(\"Enter the characters of the first set separated by commas: \").split(','))\n",
    "set2 = set(input(\"Enter the characters of the second set separated by commas: \").split(','))\n",
    "\n",
    "\n",
    "union_set = set1 | set2\n",
    "\n",
    "print(\"Union of the two sets:\", union_set)\n"
   ]
  },
  {
   "cell_type": "markdown",
   "id": "be8f2bf9-a4ff-4a39-a5cc-4382f1e7d927",
   "metadata": {},
   "source": [
    "# Question 28\n",
    "## 28.\tCreate a code that defines two sets of integers. Then, print the union, intersection, and difference of these two sets"
   ]
  },
  {
   "cell_type": "code",
   "execution_count": 45,
   "id": "ecceaa8a-8cb1-40c2-a92a-d5572eba6924",
   "metadata": {},
   "outputs": [
    {
     "name": "stdin",
     "output_type": "stream",
     "text": [
      "Enter the characters of the first set separated by commas:  23,4,54,3,5,543\n",
      "Enter the characters of the second set separated by commas:  3,4,5,344,553\n"
     ]
    },
    {
     "name": "stdout",
     "output_type": "stream",
     "text": [
      "the intersection of sets are :  {'3', '4', '5'}\n",
      "the union of sets are :  {'543', '5', '4', '3', '23', '553', '54', '344'}\n",
      "the differnece of sets are :  {'23', '543', '54'}\n"
     ]
    }
   ],
   "source": [
    "set1 = set(input(\"Enter the characters of the first set separated by commas: \").split(','))\n",
    "set2 = set(input(\"Enter the characters of the second set separated by commas: \").split(','))\n",
    "intrsec = set1 & set2\n",
    "union = set1 | set2\n",
    "diff = set1 - set2\n",
    "print(\"the intersection of sets are : \" , intrsec)\n",
    "print(\"the union of sets are : \" , union)\n",
    "print(\"the differnece of sets are : \" , diff)"
   ]
  },
  {
   "cell_type": "markdown",
   "id": "67d8a029-14b8-4c55-b299-79a1a95146ca",
   "metadata": {},
   "source": [
    "# Question 29\n",
    "## 29.\tWrite a code that takes a tuple and an element as input. The function should return the count of occurrences of the given element in the tuple"
   ]
  },
  {
   "cell_type": "code",
   "execution_count": 50,
   "id": "b9aef8bd-4d71-401d-b5e7-967c006ea3bd",
   "metadata": {},
   "outputs": [
    {
     "name": "stdin",
     "output_type": "stream",
     "text": [
      "enter the tuple 33,66,77,88,33\n",
      "enter the element  33\n"
     ]
    },
    {
     "name": "stdout",
     "output_type": "stream",
     "text": [
      "the occuernce of tuple 33 : 2 \n"
     ]
    }
   ],
   "source": [
    "def count_oc(t1 , ele):\n",
    "    return t1.count(ele)\n",
    "\n",
    "t1 = tuple(input(\"enter the tuple\").split(','))\n",
    "ele = input(\"enter the element \")\n",
    "          \n",
    "res = count_oc(t1 , ele)\n",
    "print(f\"the occuernce of tuple {ele} : {res} \")\n",
    "           "
   ]
  },
  {
   "cell_type": "markdown",
   "id": "5ca4ae60-1ea8-4537-822b-f8800af45738",
   "metadata": {},
   "source": [
    "# Question 30\n",
    "## 30.\tDevelop a code that prompts the user to input two sets of strings. Then, print the symmetric difference of these two sets"
   ]
  },
  {
   "cell_type": "code",
   "execution_count": 52,
   "id": "c4749a6c-9c97-4bc6-8444-855018906f21",
   "metadata": {},
   "outputs": [
    {
     "name": "stdin",
     "output_type": "stream",
     "text": [
      "Enter the characters of the first set separated by commas:  cooking , bathing , walking ,coding\n",
      "Enter the characters of the second set separated by commas:  nini , running , sitting , bathing , walking \n"
     ]
    },
    {
     "name": "stdout",
     "output_type": "stream",
     "text": [
      "Symmetric of the two sets: {' sitting ', 'nini ', ' running ', 'cooking ', 'coding'}\n"
     ]
    }
   ],
   "source": [
    "set1 = set(input(\"Enter the characters of the first set separated by commas: \").split(','))\n",
    "set2 = set(input(\"Enter the characters of the second set separated by commas: \").split(','))\n",
    "\n",
    "\n",
    "sym_set = set1 ^set2\n",
    "\n",
    "print(\"Symmetric of the two sets:\", sym_set)\n"
   ]
  },
  {
   "cell_type": "markdown",
   "id": "8ad81dcd-9395-43da-ae6b-02c87e44cc90",
   "metadata": {},
   "source": [
    " # Question 31\n",
    "## 31.\tWrite a code that takes a list of words as input and returns a dictionary where the keys are unique words and the values are the frequencies of those words in the input list"
   ]
  },
  {
   "cell_type": "code",
   "execution_count": 54,
   "id": "3921100c-713c-422c-9801-430f4fe8e308",
   "metadata": {},
   "outputs": [
    {
     "name": "stdin",
     "output_type": "stream",
     "text": [
      "enter the list train bus car bike car bike\n"
     ]
    },
    {
     "name": "stdout",
     "output_type": "stream",
     "text": [
      "word freq is {'train': 1, 'bus': 1, 'car': 2, 'bike': 2}\n"
     ]
    }
   ],
   "source": [
    "list_hai = input(\"enter the list\").split()\n",
    "f = {}\n",
    "for i in list_hai:\n",
    "    if i in f:\n",
    "        f[i] += 1\n",
    "    else:\n",
    "        f[i] = 1\n",
    "print(f\"word freq is {f}\")"
   ]
  },
  {
   "cell_type": "markdown",
   "id": "5dbe8ca1-87b6-4a4e-8703-68ea0f638c75",
   "metadata": {},
   "source": [
    "# Question 32\n",
    "## 32.\tWrite a code that takes two dictionaries as input and merges them into a single dictionary. If there are common keys, the values should be added together"
   ]
  },
  {
   "cell_type": "code",
   "execution_count": 58,
   "id": "5f8ec5a5-5b8d-4c1c-ab4f-da495c5df811",
   "metadata": {},
   "outputs": [
    {
     "name": "stdin",
     "output_type": "stream",
     "text": [
      "Enter the first dictionary :  {'a': 1, 'b': 2}\n",
      "Enter the second dictionary :  {'b': 3, 'c': 4}\n"
     ]
    },
    {
     "name": "stdout",
     "output_type": "stream",
     "text": [
      "Merged dictionary: {'a': 1, 'b': 5, 'c': 4}\n"
     ]
    }
   ],
   "source": [
    "\n",
    "dict1 = eval(input(\"Enter the first dictionary : \"))\n",
    "dict2 = eval(input(\"Enter the second dictionary : \"))\n",
    "\n",
    "merged_dict = {}\n",
    "\n",
    "for key, value in dict1.items():\n",
    "    if key in merged_dict:\n",
    "        merged_dict[key] += value\n",
    "    else:\n",
    "        merged_dict[key] = value\n",
    "\n",
    "\n",
    "for key, value in dict2.items():\n",
    "    if key in merged_dict:\n",
    "        merged_dict[key] += value\n",
    "    else:\n",
    "        merged_dict[key] = value\n",
    "\n",
    "print(\"Merged dictionary:\", merged_dict)\n"
   ]
  },
  {
   "cell_type": "markdown",
   "id": "f8862390-da69-4949-8cf7-40053dd2107a",
   "metadata": {},
   "source": [
    "# Question 33\n",
    "## 33.\tWrite a code to access a value in a nested dictionary. The function should take the dictionary and a list of keys as input, and return the corresponding value. If any of the keys do not exist in the dictionary, the function should return None\n"
   ]
  },
  {
   "cell_type": "code",
   "execution_count": 59,
   "id": "53f4361a-66ce-4e96-9b48-7f1ee98d2e52",
   "metadata": {},
   "outputs": [
    {
     "name": "stdin",
     "output_type": "stream",
     "text": [
      "Enter the nested dictionary :  {'a': {'b': {'c': 10}}}\n",
      "Enter a list of keys separated by commas :  a,b,c\n"
     ]
    },
    {
     "name": "stdout",
     "output_type": "stream",
     "text": [
      "Value: 10\n"
     ]
    }
   ],
   "source": [
    "\n",
    "nested_dict = eval(input(\"Enter the nested dictionary : \"))\n",
    "\n",
    "\n",
    "keys_list = input(\"Enter a list of keys separated by commas : \").split(',')\n",
    "\n",
    "current_value = nested_dict\n",
    "\n",
    "\n",
    "for key in keys_list:\n",
    "    if isinstance(current_value, dict) and key in current_value:\n",
    "        current_value = current_value[key]\n",
    "    else:\n",
    "        current_value = None\n",
    "        break\n",
    "\n",
    "\n",
    "        \n",
    "print(\"Value:\", current_value)\n"
   ]
  },
  {
   "cell_type": "markdown",
   "id": "d3b4153e-3651-47d6-abd5-733f0a300bb5",
   "metadata": {},
   "source": [
    "# Question 34\n",
    "## 34.\tWrite a code that takes a dictionary as input and returns a sorted version of it based on the values. You can choose whether to sort in ascending or descending order"
   ]
  },
  {
   "cell_type": "code",
   "execution_count": 56,
   "id": "9fb6ae8d-d319-453a-a983-b11e416b7f18",
   "metadata": {},
   "outputs": [
    {
     "name": "stdin",
     "output_type": "stream",
     "text": [
      "Enter the dictionary  {'a': 3, 'b': 1, 'c': 2}\n"
     ]
    },
    {
     "name": "stdout",
     "output_type": "stream",
     "text": [
      "Sorted dictionary (ascending order): {'b': 1, 'c': 2, 'a': 3}\n"
     ]
    }
   ],
   "source": [
    "def get_value(item):\n",
    "    return item[1]\n",
    "\n",
    "dict1 = eval(input(\"Enter the dictionary \"))\n",
    "\n",
    "\n",
    "sorted_dict = dict(sorted(dict1.items(), key=get_value))\n",
    "\n",
    "\n",
    "print(\"Sorted dictionary (ascending order):\", sorted_dict)\n"
   ]
  },
  {
   "cell_type": "markdown",
   "id": "fbf73384-9830-48eb-900b-98a800ecc696",
   "metadata": {},
   "source": [
    "# Question 35\n",
    "## 35.\tWrite a code that inverts a dictionary, swapping keys and values. Ensure that the inverted dictionary correctly handles cases where multiple keys have the same value by storing the keys as a list in the inverted dictionary"
   ]
  },
  {
   "cell_type": "code",
   "execution_count": 57,
   "id": "74bc7551-1bde-4ab7-9d91-17c45109a1c4",
   "metadata": {},
   "outputs": [
    {
     "name": "stdin",
     "output_type": "stream",
     "text": [
      "Enter the dictionary :  {'a': 1, 'b': 2, 'c': 1}\n"
     ]
    },
    {
     "name": "stdout",
     "output_type": "stream",
     "text": [
      "Inverted dictionary: {1: ['a', 'c'], 2: ['b']}\n"
     ]
    }
   ],
   "source": [
    "\n",
    "input_dict = eval(input(\"Enter the dictionary : \"))\n",
    "\n",
    "\n",
    "inverted_dict = {}\n",
    "\n",
    "# Invert the dictionary\n",
    "for key, value in input_dict.items():\n",
    "    if value in inverted_dict:\n",
    "        inverted_dict[value].append(key)\n",
    "    else:\n",
    "        inverted_dict[value] = [key]\n",
    "\n",
    "print(\"Inverted dictionary:\", inverted_dict)\n"
   ]
  },
  {
   "cell_type": "code",
   "execution_count": null,
   "id": "1f994bef-8f54-46f4-980d-4134d69e6f60",
   "metadata": {},
   "outputs": [],
   "source": []
  }
 ],
 "metadata": {
  "kernelspec": {
   "display_name": "Python 3 (ipykernel)",
   "language": "python",
   "name": "python3"
  },
  "language_info": {
   "codemirror_mode": {
    "name": "ipython",
    "version": 3
   },
   "file_extension": ".py",
   "mimetype": "text/x-python",
   "name": "python",
   "nbconvert_exporter": "python",
   "pygments_lexer": "ipython3",
   "version": "3.10.8"
  }
 },
 "nbformat": 4,
 "nbformat_minor": 5
}
