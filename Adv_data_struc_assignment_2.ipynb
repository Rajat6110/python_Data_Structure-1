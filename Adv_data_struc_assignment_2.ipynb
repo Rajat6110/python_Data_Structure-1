{
 "cells": [
  {
   "cell_type": "markdown",
   "id": "012c1037-1fe9-4f21-a348-96ecd4cf862f",
   "metadata": {},
   "source": [
    "# question 1\n",
    "# Write a code to reverse a string.\n"
   ]
  },
  {
   "cell_type": "code",
   "execution_count": 3,
   "id": "705875cc-4438-4cfd-9b78-141598caa212",
   "metadata": {},
   "outputs": [
    {
     "name": "stdout",
     "output_type": "stream",
     "text": [
      " erodni morf hsetimA ma' i , ollEH\n"
     ]
    }
   ],
   "source": [
    "#through slicing \n",
    "str1 = \"HEllo , i 'am Amitesh from indore \"\n",
    "rev_str = str1[::-1]\n",
    "print(rev_str)"
   ]
  },
  {
   "cell_type": "code",
   "execution_count": 4,
   "id": "5fed5c65-ff00-4e75-891c-1a02cd413fe0",
   "metadata": {},
   "outputs": [
    {
     "name": "stdout",
     "output_type": "stream",
     "text": [
      " erodni morf hsetimA ma' i , ollEH\n"
     ]
    }
   ],
   "source": [
    "# through for loop\n",
    "\n",
    "str1 = \"HEllo , i 'am Amitesh from indore \"\n",
    "rev_str1 = \"\"\n",
    "for i in str1:\n",
    "    rev_str1 = i + rev_str1\n",
    "print(rev_str1)\n",
    "    "
   ]
  },
  {
   "cell_type": "markdown",
   "id": "f3d47ae7-daf4-444c-adfa-9e8eb5a31174",
   "metadata": {},
   "source": [
    "# Question 2\n",
    "## Write a code to count the number of vowels in a string."
   ]
  },
  {
   "cell_type": "code",
   "execution_count": 18,
   "id": "9eb2a64e-2ff1-4209-a5b7-c6374deb1cae",
   "metadata": {},
   "outputs": [
    {
     "name": "stdin",
     "output_type": "stream",
     "text": [
      "enter a string  jay bankey\n"
     ]
    },
    {
     "name": "stdout",
     "output_type": "stream",
     "text": [
      "you have enterd : jay bankey\n",
      "the no of vowel in string is : 3\n"
     ]
    }
   ],
   "source": [
    "string = input(\"enter a string \")\n",
    "str = string.lower()\n",
    "print(\"you have enterd :\", str)\n",
    "count = 0\n",
    "list = [ \"a\" , \"e\" , \"i\" , \"o\" , \"u\"]\n",
    "for i in str:\n",
    "        if i in list:\n",
    "            count = count + 1\n",
    "print(\"the no of vowel in string is :\" , count)\n"
   ]
  },
  {
   "cell_type": "markdown",
   "id": "c80dd83e-0c5f-43c0-a9ac-73bf3b2e6c7a",
   "metadata": {},
   "source": [
    "# Question 3\n",
    "## Write a code to check if a given string is a palindrome or not"
   ]
  },
  {
   "cell_type": "code",
   "execution_count": 23,
   "id": "ab46c585-3628-4173-ac94-32b44434abcb",
   "metadata": {},
   "outputs": [
    {
     "name": "stdin",
     "output_type": "stream",
     "text": [
      "enter your string racecar\n"
     ]
    },
    {
     "name": "stdout",
     "output_type": "stream",
     "text": [
      "Your Number is palindorme\n"
     ]
    }
   ],
   "source": [
    "string = input(\"enter your string\")\n",
    "rev_str = string[::-1]\n",
    "if string == rev_str:\n",
    "    print(\"Your Number is palindorme\")\n",
    "else:\n",
    "    print(\"NO , it's not a palindorme .\")\n",
    "    \n",
    "    #palindrome no - 121 == 121 , madam == madam \n",
    "        \n",
    "          "
   ]
  },
  {
   "cell_type": "code",
   "execution_count": 29,
   "id": "5db8a038-76c4-495c-aa9b-5f696f4d94a0",
   "metadata": {},
   "outputs": [
    {
     "name": "stdin",
     "output_type": "stream",
     "text": [
      "enter first string heart\n",
      "enter second string: earth\n"
     ]
    },
    {
     "name": "stdout",
     "output_type": "stream",
     "text": [
      "yes , both strings are anagrams of each other\n"
     ]
    }
   ],
   "source": [
    "# Question 4\n",
    "## Write a code to check if two given strings are anagrams of each other\n",
    "\n",
    "string1 = input(\"enter first string\")\n",
    "string2  = input(\"enter second string:\")\n",
    "sorted_str = sorted(string1)\n",
    "sorted_str2 = sorted(string2)\n",
    "if sorted_str == sorted_str2:\n",
    "    print(\"yes  , both strings are anagrams of each other\")\n",
    "else:\n",
    "    print(\"no , both are not anagrams\")\n"
   ]
  },
  {
   "cell_type": "markdown",
   "id": "bd4316f4-cc72-46a4-9693-10381a027445",
   "metadata": {},
   "source": [
    "# question 5\n",
    "## Write a code to find all occurrences of a given substring within another string\n"
   ]
  },
  {
   "cell_type": "code",
   "execution_count": null,
   "id": "1c433120-0f9f-4e90-9828-271d2eaae789",
   "metadata": {},
   "outputs": [],
   "source": []
  },
  {
   "cell_type": "code",
   "execution_count": null,
   "id": "3571d52e-62e3-49b9-8dd2-79157d21affb",
   "metadata": {},
   "outputs": [],
   "source": []
  },
  {
   "cell_type": "markdown",
   "id": "aff0c202-f928-4a07-9b5c-7e63004e87cd",
   "metadata": {},
   "source": [
    "# Question 6\n",
    "\n",
    "## Write a code to perform basic string compression using the counts of repeated characters."
   ]
  },
  {
   "cell_type": "code",
   "execution_count": null,
   "id": "b74766f9-f590-413f-9b38-c4b8f25767eb",
   "metadata": {},
   "outputs": [],
   "source": []
  }
 ],
 "metadata": {
  "kernelspec": {
   "display_name": "Python 3 (ipykernel)",
   "language": "python",
   "name": "python3"
  },
  "language_info": {
   "codemirror_mode": {
    "name": "ipython",
    "version": 3
   },
   "file_extension": ".py",
   "mimetype": "text/x-python",
   "name": "python",
   "nbconvert_exporter": "python",
   "pygments_lexer": "ipython3",
   "version": "3.10.8"
  }
 },
 "nbformat": 4,
 "nbformat_minor": 5
}
