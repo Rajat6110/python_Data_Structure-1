{
 "cells": [
  {
   "cell_type": "markdown",
   "id": "8167e1b7-0a1f-4975-a0e6-ab5cf43150cd",
   "metadata": {},
   "source": [
    "# Question 1 \n",
    "\n",
    "## Discuss string slicing and provide examples"
   ]
  },
  {
   "cell_type": "code",
   "execution_count": 1,
   "id": "17e5fbf0-7a59-418f-8bb3-6b8916759b6d",
   "metadata": {},
   "outputs": [],
   "source": [
    "# Slicing is the extraction of a part of a string, list, or tuple.\n",
    "#It enables users to access the specific range of elements by mentioning their indices. \n",
    "#syntx - [start : end : step/parameter]\n",
    "#suppose you start from index 1 and end index is 5 , then it will print till 4th index ( it will not include 5)\n",
    "# we can do negative indexing to from -1 , -2 , -3 .... -n\n",
    "\n"
   ]
  },
  {
   "cell_type": "code",
   "execution_count": 2,
   "id": "e6366fbd-ec03-4af9-93af-fa004c5be852",
   "metadata": {},
   "outputs": [
    {
     "data": {
      "text/plain": [
       "'A'"
      ]
     },
     "execution_count": 2,
     "metadata": {},
     "output_type": "execute_result"
    }
   ],
   "source": [
    "Name = \"Amitesh\"\n",
    "Name[0]"
   ]
  },
  {
   "cell_type": "code",
   "execution_count": 3,
   "id": "c442ad6e-3cca-4bc8-a96b-a417fb3cf7db",
   "metadata": {},
   "outputs": [
    {
     "data": {
      "text/plain": [
       "'Amitesh'"
      ]
     },
     "execution_count": 3,
     "metadata": {},
     "output_type": "execute_result"
    }
   ],
   "source": [
    "Name[0:7]"
   ]
  },
  {
   "cell_type": "code",
   "execution_count": 4,
   "id": "a5f598d1-5a5f-494b-9bbe-baa5651c93d8",
   "metadata": {},
   "outputs": [
    {
     "data": {
      "text/plain": [
       "'mitesh'"
      ]
     },
     "execution_count": 4,
     "metadata": {},
     "output_type": "execute_result"
    }
   ],
   "source": [
    "Name[1:7]"
   ]
  },
  {
   "cell_type": "code",
   "execution_count": 5,
   "id": "e39a1877-a619-4a59-b417-5898a386a262",
   "metadata": {},
   "outputs": [
    {
     "data": {
      "text/plain": [
       "'Aieh'"
      ]
     },
     "execution_count": 5,
     "metadata": {},
     "output_type": "execute_result"
    }
   ],
   "source": [
    "Name[0:7:2]"
   ]
  },
  {
   "cell_type": "code",
   "execution_count": 8,
   "id": "9c835cbd-53e8-4dd5-b017-00c7a8cb062c",
   "metadata": {},
   "outputs": [
    {
     "data": {
      "text/plain": [
       "'hsetimA'"
      ]
     },
     "execution_count": 8,
     "metadata": {},
     "output_type": "execute_result"
    }
   ],
   "source": [
    "Name[::-1] #reverse slicing\n"
   ]
  },
  {
   "cell_type": "code",
   "execution_count": 16,
   "id": "69adf70e-37b2-4660-bff5-4e44c53608b5",
   "metadata": {},
   "outputs": [
    {
     "data": {
      "text/plain": [
       "'esh'"
      ]
     },
     "execution_count": 16,
     "metadata": {},
     "output_type": "execute_result"
    }
   ],
   "source": [
    "#print last 3 values\n",
    "Name[-3::]"
   ]
  },
  {
   "cell_type": "code",
   "execution_count": 17,
   "id": "3d099ee5-1df4-4538-b5d6-0399160c10e9",
   "metadata": {},
   "outputs": [
    {
     "data": {
      "text/plain": [
       "'pwski'"
      ]
     },
     "execution_count": 17,
     "metadata": {},
     "output_type": "execute_result"
    }
   ],
   "source": [
    "#print ecexpt last 3\n",
    "strin2 = \"pwskills\"\n",
    "strin2[:-3:]"
   ]
  },
  {
   "cell_type": "markdown",
   "id": "ef5a1649-57b3-43e3-9fa7-d1e6e7f180c3",
   "metadata": {
    "tags": []
   },
   "source": [
    "# Question 2\n",
    "\n",
    "## Explain the key features of lists in Python"
   ]
  },
  {
   "cell_type": "code",
   "execution_count": 18,
   "id": "22aa4e10-76fd-455e-996f-9c34c67a500c",
   "metadata": {},
   "outputs": [],
   "source": [
    "#LISTS\n",
    "#LIST IS ONE OF THE DATA STRUCTURE IN PYTHON , IT IS VERY USEFUL DATA STRUCTURE\n",
    "#OR WE CAN SAYlist are orderd collection of items\n",
    "#  SYNTAX - []\n",
    "# list is like a shopping bag which can store anything \n",
    " # liST can store any data type \n",
    "# LIST ARE hertogenous\n",
    "# they are mutable , IT MEANS WE CAN CHANGE IT ANYTIME WE WANT\n",
    "\n",
    "#Dynamic Size: Lists can grow or shrink as you add or remove element\n",
    "# , You don't need to define the size of a list when you create it.\n",
    "\n",
    "# List Comprehensions: Python supports list comprehensions, a concise way to create lists\n"
   ]
  },
  {
   "cell_type": "code",
   "execution_count": 20,
   "id": "17bcb2cb-c4c2-49bd-a172-faec49fc07ed",
   "metadata": {},
   "outputs": [
    {
     "name": "stdout",
     "output_type": "stream",
     "text": [
      "['Amitesh', 'rajat ', 2, 5.544, (3+4j)]\n"
     ]
    }
   ],
   "source": [
    "LIST1 = [ \"Amitesh\" , \"rajat \" , 2, 5.544 , 3+4j ]\n",
    "print(LIST1)"
   ]
  },
  {
   "cell_type": "markdown",
   "id": "267f626b-7062-4064-9747-208f9422e8d6",
   "metadata": {},
   "source": [
    "# Question 3\n",
    " \n",
    "## Descirbe , how you can access, modify, and delete elements in a Python list with examples"
   ]
  },
  {
   "cell_type": "code",
   "execution_count": 21,
   "id": "99ba2d16-9d84-4bc0-8f1e-ba0ef7cead2b",
   "metadata": {},
   "outputs": [
    {
     "name": "stdout",
     "output_type": "stream",
     "text": [
      "['Amitesh', 'rajat ', 2, 5.544, (3+4j)]\n"
     ]
    }
   ],
   "source": [
    "LIST1 = [ \"Amitesh\" , \"rajat \" , 2, 5.544 , 3+4j ]\n",
    "print(LIST1)"
   ]
  },
  {
   "cell_type": "code",
   "execution_count": 25,
   "id": "f2c7aee5-0bf6-44ed-b5ad-7ff93608be68",
   "metadata": {},
   "outputs": [
    {
     "data": {
      "text/plain": [
       "'Amitesh'"
      ]
     },
     "execution_count": 25,
     "metadata": {},
     "output_type": "execute_result"
    }
   ],
   "source": [
    "#accessing element using indexing\n",
    "LIST1[0]"
   ]
  },
  {
   "cell_type": "code",
   "execution_count": 26,
   "id": "59dda480-f304-4e00-95d7-b2a5d53440f2",
   "metadata": {},
   "outputs": [
    {
     "data": {
      "text/plain": [
       "5.544"
      ]
     },
     "execution_count": 26,
     "metadata": {},
     "output_type": "execute_result"
    }
   ],
   "source": [
    "LIST1[3]\n"
   ]
  },
  {
   "cell_type": "code",
   "execution_count": 27,
   "id": "a4096521-57dd-4f98-b469-374e5515cff9",
   "metadata": {},
   "outputs": [
    {
     "name": "stdout",
     "output_type": "stream",
     "text": [
      "(3+4j)\n"
     ]
    }
   ],
   "source": [
    "print(LIST1[4])"
   ]
  },
  {
   "cell_type": "code",
   "execution_count": 28,
   "id": "e1426d45-823f-4a8a-93e5-3d3d3b5cc13f",
   "metadata": {},
   "outputs": [
    {
     "data": {
      "text/plain": [
       "2"
      ]
     },
     "execution_count": 28,
     "metadata": {},
     "output_type": "execute_result"
    }
   ],
   "source": [
    "LIST1[-3]"
   ]
  },
  {
   "cell_type": "code",
   "execution_count": 31,
   "id": "d06161da-5e5a-474f-991b-6738c959136e",
   "metadata": {},
   "outputs": [
    {
     "name": "stdout",
     "output_type": "stream",
     "text": [
      "Amitesh\n",
      "rajat \n",
      "2\n",
      "5.544\n",
      "(3+4j)\n"
     ]
    }
   ],
   "source": [
    "for i in LIST1:\n",
    "    print(i )"
   ]
  },
  {
   "cell_type": "code",
   "execution_count": 33,
   "id": "9fbd569b-f514-4d0f-81bd-fc78373c2c33",
   "metadata": {},
   "outputs": [],
   "source": [
    "#modify element in list\n",
    "LIST1[4] = \"amitesh2\""
   ]
  },
  {
   "cell_type": "code",
   "execution_count": 34,
   "id": "7bd8746e-ee92-4e74-a6c7-902ade8a6f19",
   "metadata": {},
   "outputs": [
    {
     "data": {
      "text/plain": [
       "['Amitesh', 'rajat ', 2, 5.544, 'amitesh2']"
      ]
     },
     "execution_count": 34,
     "metadata": {},
     "output_type": "execute_result"
    }
   ],
   "source": [
    "LIST1"
   ]
  },
  {
   "cell_type": "code",
   "execution_count": 35,
   "id": "19f3681a-2950-41e4-b920-742adba213f0",
   "metadata": {},
   "outputs": [],
   "source": [
    "LIST1.append(100)"
   ]
  },
  {
   "cell_type": "code",
   "execution_count": 36,
   "id": "ce6d421e-e6d6-4cd2-a08f-4e4a01a0768d",
   "metadata": {},
   "outputs": [
    {
     "data": {
      "text/plain": [
       "['Amitesh', 'rajat ', 2, 5.544, 'amitesh2', 100]"
      ]
     },
     "execution_count": 36,
     "metadata": {},
     "output_type": "execute_result"
    }
   ],
   "source": [
    "LIST1\n"
   ]
  },
  {
   "cell_type": "code",
   "execution_count": 37,
   "id": "4f5c077f-1282-4df4-871c-8e2e8a1982e1",
   "metadata": {},
   "outputs": [],
   "source": [
    "LIST1.insert(3, \"PWskills\")"
   ]
  },
  {
   "cell_type": "code",
   "execution_count": 38,
   "id": "c0e29145-8bb4-4ba3-8115-570529043959",
   "metadata": {},
   "outputs": [
    {
     "data": {
      "text/plain": [
       "['Amitesh', 'rajat ', 2, 'PWskills', 5.544, 'amitesh2', 100]"
      ]
     },
     "execution_count": 38,
     "metadata": {},
     "output_type": "execute_result"
    }
   ],
   "source": [
    "LIST1"
   ]
  },
  {
   "cell_type": "code",
   "execution_count": 39,
   "id": "1421b28b-0599-4e3f-b615-9455ae7db2f6",
   "metadata": {},
   "outputs": [],
   "source": [
    "#deleting element from List\n",
    "LIST1.remove(100) #remove() method"
   ]
  },
  {
   "cell_type": "code",
   "execution_count": 40,
   "id": "61464633-c5b1-4bc1-b9e3-b8e145ec4de5",
   "metadata": {},
   "outputs": [
    {
     "data": {
      "text/plain": [
       "['Amitesh', 'rajat ', 2, 'PWskills', 5.544, 'amitesh2']"
      ]
     },
     "execution_count": 40,
     "metadata": {},
     "output_type": "execute_result"
    }
   ],
   "source": [
    "LIST1"
   ]
  },
  {
   "cell_type": "code",
   "execution_count": 49,
   "id": "77e62268-b9e0-41ff-9d16-47fdf8ed60c4",
   "metadata": {},
   "outputs": [],
   "source": [
    "LIST1 = [ \"Amitesh\" , \"rajat \" , 2, 5.544 , 3+4j ]\n",
    "LIST1.clear() # remove all items"
   ]
  },
  {
   "cell_type": "code",
   "execution_count": 50,
   "id": "e6cc44f5-6e5a-4ce3-bb2a-ec5d31490974",
   "metadata": {},
   "outputs": [
    {
     "data": {
      "text/plain": [
       "[]"
      ]
     },
     "execution_count": 50,
     "metadata": {},
     "output_type": "execute_result"
    }
   ],
   "source": [
    "LIST1"
   ]
  },
  {
   "cell_type": "code",
   "execution_count": 51,
   "id": "5b459682-b423-4a80-965c-5090e790eec6",
   "metadata": {},
   "outputs": [],
   "source": [
    "del LIST1 # del whole list \n"
   ]
  },
  {
   "cell_type": "markdown",
   "id": "834a35ed-906a-4ca5-8d37-1628efce2f48",
   "metadata": {},
   "source": [
    "# Question 4 \n",
    "\n",
    "##   Compare and contrast tuples and lists with examples"
   ]
  },
  {
   "cell_type": "code",
   "execution_count": 52,
   "id": "235ab89d-6a3a-44cc-9ffd-8665791ed88c",
   "metadata": {},
   "outputs": [],
   "source": [
    "#LIST VS TUPLES \n",
    "#1 LIST \n",
    "#LIST IS ONE OF THE DATA STRUCTURE IN PYTHON , IT IS VERY USEFUL DATA STRUCTURE\n",
    "#OR WE CAN SAYlist are orderd collection of items\n",
    "#  SYNTAX - []\n",
    "# list is like a shopping bag which can store anything \n",
    " # liST can store any data type \n",
    "# LIST ARE hertogenous\n",
    "# they are mutable , IT MEANS WE CAN CHANGE IT ANYTIME WE WANT\n",
    "\n",
    "#Dynamic Size: Lists can grow or shrink as you add or remove element\n",
    "# , You don't need to define the size of a list when you create it.\n",
    "#Lists Have a larger set of built-in methods like append(), remove(), extend(), sort(), etc.\n",
    "# List Comprehensions: Python supports list comprehensions, a concise way to create lists\n",
    "\n",
    "\n",
    "# 2 TUPLES\n",
    "\n",
    "# tuples are orderd collection on elements \n",
    "#  TUPLE ARE heterogenous \n",
    "#tuples are immutable\n",
    "# () - SYNTAX \n",
    "#TUPLE CAN STORE ANY DATA TYPE\n",
    "\n",
    "# Tuples Have fewer built-in methods, primarily count() and index()\n"
   ]
  },
  {
   "cell_type": "code",
   "execution_count": 59,
   "id": "cba778d4-4ea0-4a60-9c46-f6ad541aee70",
   "metadata": {},
   "outputs": [],
   "source": [
    "#LIST\n",
    "\n",
    "list1 = [ 1 ,3 ,4, 5,\" amitesh\"  , (24,5,3)]\n"
   ]
  },
  {
   "cell_type": "code",
   "execution_count": 60,
   "id": "8932a55f-91d8-496e-924d-9ac667682d52",
   "metadata": {},
   "outputs": [
    {
     "data": {
      "text/plain": [
       "6"
      ]
     },
     "execution_count": 60,
     "metadata": {},
     "output_type": "execute_result"
    }
   ],
   "source": [
    "len(list1)\n"
   ]
  },
  {
   "cell_type": "code",
   "execution_count": 63,
   "id": "960a73e0-8bf2-4391-abe9-ffe2c675a385",
   "metadata": {},
   "outputs": [
    {
     "data": {
      "text/plain": [
       "5"
      ]
     },
     "execution_count": 63,
     "metadata": {},
     "output_type": "execute_result"
    }
   ],
   "source": [
    "list1[5][1]"
   ]
  },
  {
   "cell_type": "code",
   "execution_count": 67,
   "id": "d3700b82-96c6-4206-a29f-385fc6090077",
   "metadata": {},
   "outputs": [],
   "source": [
    "list1[0] = \"Rajat\" # mutable"
   ]
  },
  {
   "cell_type": "code",
   "execution_count": 66,
   "id": "3045f7ad-e2f3-4f83-a1bb-2d88e6a6a2dd",
   "metadata": {},
   "outputs": [
    {
     "data": {
      "text/plain": [
       "['Rajat', 3, 4, 5, ' amitesh', (24, 5, 3)]"
      ]
     },
     "execution_count": 66,
     "metadata": {},
     "output_type": "execute_result"
    }
   ],
   "source": [
    "list1"
   ]
  },
  {
   "cell_type": "code",
   "execution_count": 69,
   "id": "e7fc8ade-216a-4c64-9852-7ce06017528e",
   "metadata": {},
   "outputs": [],
   "source": [
    "list1.append(\"new chizzi\")"
   ]
  },
  {
   "cell_type": "code",
   "execution_count": 70,
   "id": "ee230160-198f-4f7d-971b-adde4327e56f",
   "metadata": {},
   "outputs": [],
   "source": [
    "list.remove(3)"
   ]
  },
  {
   "cell_type": "code",
   "execution_count": 71,
   "id": "7b48c0b0-f769-4d02-829f-583036b44a80",
   "metadata": {},
   "outputs": [
    {
     "data": {
      "text/plain": [
       "['Rajat', 3, 4, 5, ' amitesh', (24, 5, 3), 'new chizzi']"
      ]
     },
     "execution_count": 71,
     "metadata": {},
     "output_type": "execute_result"
    }
   ],
   "source": [
    "list1"
   ]
  },
  {
   "cell_type": "code",
   "execution_count": 72,
   "id": "60d8f5c8-a3ed-4ec6-9215-610f20c1e950",
   "metadata": {},
   "outputs": [],
   "source": [
    "#tupels\n",
    "t = ( \"amitesh \" , \" rajat \" , 1 , 3 , 53  , [66,64,654])"
   ]
  },
  {
   "cell_type": "code",
   "execution_count": 73,
   "id": "8457b8f4-26ad-4fc2-a6f2-d3342e18c0af",
   "metadata": {},
   "outputs": [
    {
     "data": {
      "text/plain": [
       "[66, 64, 654]"
      ]
     },
     "execution_count": 73,
     "metadata": {},
     "output_type": "execute_result"
    }
   ],
   "source": [
    "t[5]"
   ]
  },
  {
   "cell_type": "code",
   "execution_count": 74,
   "id": "03e1af16-40bd-4de2-9beb-1102518f3ac9",
   "metadata": {},
   "outputs": [
    {
     "data": {
      "text/plain": [
       "654"
      ]
     },
     "execution_count": 74,
     "metadata": {},
     "output_type": "execute_result"
    }
   ],
   "source": [
    "t[5][2]"
   ]
  },
  {
   "cell_type": "code",
   "execution_count": 76,
   "id": "5d499bed-d625-478f-ba27-748c030f1483",
   "metadata": {},
   "outputs": [
    {
     "ename": "TypeError",
     "evalue": "'tuple' object does not support item assignment",
     "output_type": "error",
     "traceback": [
      "\u001b[0;31m---------------------------------------------------------------------------\u001b[0m",
      "\u001b[0;31mTypeError\u001b[0m                                 Traceback (most recent call last)",
      "Cell \u001b[0;32mIn[76], line 1\u001b[0m\n\u001b[0;32m----> 1\u001b[0m \u001b[43mt\u001b[49m\u001b[43m[\u001b[49m\u001b[38;5;241;43m1\u001b[39;49m\u001b[43m]\u001b[49m\u001b[38;5;241m=\u001b[39m \u001b[38;5;124m\"\u001b[39m\u001b[38;5;124mmoj masti\u001b[39m\u001b[38;5;124m\"\u001b[39m \u001b[38;5;66;03m#immutable\u001b[39;00m\n",
      "\u001b[0;31mTypeError\u001b[0m: 'tuple' object does not support item assignment"
     ]
    }
   ],
   "source": [
    "t[1]= \"moj masti\" #immutable"
   ]
  },
  {
   "cell_type": "code",
   "execution_count": 77,
   "id": "6c697a1e-a15d-4f56-9eab-33faad1c47b5",
   "metadata": {},
   "outputs": [
    {
     "data": {
      "text/plain": [
       "1"
      ]
     },
     "execution_count": 77,
     "metadata": {},
     "output_type": "execute_result"
    }
   ],
   "source": [
    "t.count(1)"
   ]
  },
  {
   "cell_type": "code",
   "execution_count": 79,
   "id": "f21e3913-98cc-452f-849d-7df1665a88ee",
   "metadata": {},
   "outputs": [
    {
     "data": {
      "text/plain": [
       "0"
      ]
     },
     "execution_count": 79,
     "metadata": {},
     "output_type": "execute_result"
    }
   ],
   "source": [
    "t.index(\"amitesh \")"
   ]
  },
  {
   "cell_type": "markdown",
   "id": "ff263ecf-786d-4046-b601-3a614aa2a17c",
   "metadata": {},
   "source": [
    "# Question 5\n",
    "##  Describe the key features of sets and provide examples of their uses.\n"
   ]
  },
  {
   "cell_type": "code",
   "execution_count": 80,
   "id": "b4f07a9c-047b-47c3-8ea6-8ecaafc4c035",
   "metadata": {},
   "outputs": [],
   "source": [
    "#sets \n",
    "\n",
    "\n",
    "# SETS ARE UNORDERD AND UNIQUE COLLECTION OF ELEMENTS\n",
    "# DOES'NT ALLOW DUPLICATE ELEMENTS\n",
    "# UNORDERED >> INDEXING WILL NOT WORK\n",
    "# {} \n",
    "# Mathematical Operations:\n",
    "#Sets support mathematical operations like union, intersection, difference, and symmetric difference.\n",
    "# Mutability:\n",
    "#Sets can be modified after creation. Elements can be added or removed using various methods like add(), remove(), and discard()\n",
    "\n"
   ]
  },
  {
   "cell_type": "code",
   "execution_count": 81,
   "id": "68eab5cd-b245-4d22-b9b9-ce8c656d563a",
   "metadata": {},
   "outputs": [],
   "source": [
    "s = { 1 ,2 ,3 }"
   ]
  },
  {
   "cell_type": "code",
   "execution_count": 82,
   "id": "8075bba8-d731-443e-b980-d4322327c887",
   "metadata": {},
   "outputs": [
    {
     "data": {
      "text/plain": [
       "{1, 2, 3}"
      ]
     },
     "execution_count": 82,
     "metadata": {},
     "output_type": "execute_result"
    }
   ],
   "source": [
    "s"
   ]
  },
  {
   "cell_type": "code",
   "execution_count": 83,
   "id": "db509371-c6b3-4a81-8a83-18fad4aa9deb",
   "metadata": {},
   "outputs": [
    {
     "ename": "TypeError",
     "evalue": "unhashable type: 'set'",
     "output_type": "error",
     "traceback": [
      "\u001b[0;31m---------------------------------------------------------------------------\u001b[0m",
      "\u001b[0;31mTypeError\u001b[0m                                 Traceback (most recent call last)",
      "Cell \u001b[0;32mIn[83], line 1\u001b[0m\n\u001b[0;32m----> 1\u001b[0m s \u001b[38;5;241m=\u001b[39m { \u001b[38;5;241m1\u001b[39m, \u001b[38;5;241m2\u001b[39m , \u001b[38;5;241m3\u001b[39m, \u001b[38;5;241m4\u001b[39m, \u001b[38;5;241m5\u001b[39m , {\u001b[38;5;241m4\u001b[39m,\u001b[38;5;241m5\u001b[39m,\u001b[38;5;241m6\u001b[39m}}\n\u001b[1;32m      2\u001b[0m \u001b[38;5;66;03m#unhashable type >> it is mutable list , set \u001b[39;00m\n\u001b[1;32m      3\u001b[0m \u001b[38;5;66;03m#immutable data structure has a stable hash values like tuples\u001b[39;00m\n",
      "\u001b[0;31mTypeError\u001b[0m: unhashable type: 'set'"
     ]
    }
   ],
   "source": [
    "s = { 1, 2 , 3, 4, 5 , {4,5,6}}\n",
    "#unhashable type >> it is mutable list , set \n",
    "#immutable data structure has a stable hash values like tuples"
   ]
  },
  {
   "cell_type": "code",
   "execution_count": 84,
   "id": "56fbd924-e176-49c7-ae89-273f3909f164",
   "metadata": {},
   "outputs": [
    {
     "data": {
      "text/plain": [
       "{(4, 5, 6), 1, 2, 3, 4, 5}"
      ]
     },
     "execution_count": 84,
     "metadata": {},
     "output_type": "execute_result"
    }
   ],
   "source": [
    "{1, 2, 3, 4, 5, (4, 5, 6)} #it didnt throw error, because tuple is immutable>>stable hashtype"
   ]
  },
  {
   "cell_type": "code",
   "execution_count": 85,
   "id": "2e382329-036f-452a-a767-e1bae36e9909",
   "metadata": {},
   "outputs": [
    {
     "name": "stdout",
     "output_type": "stream",
     "text": [
      "1\n",
      "2\n",
      "3\n"
     ]
    }
   ],
   "source": [
    "for i in s:\n",
    "    print(i)"
   ]
  },
  {
   "cell_type": "code",
   "execution_count": 86,
   "id": "ca1a27da-344a-4f25-b41f-f98dca5a9131",
   "metadata": {},
   "outputs": [],
   "source": [
    "#set is mutable\n",
    "s.add(100)"
   ]
  },
  {
   "cell_type": "code",
   "execution_count": 87,
   "id": "f7da2f22-6bd9-46f8-9bda-414657bd9571",
   "metadata": {},
   "outputs": [
    {
     "data": {
      "text/plain": [
       "1"
      ]
     },
     "execution_count": 87,
     "metadata": {},
     "output_type": "execute_result"
    }
   ],
   "source": [
    "s.pop() # not compalsary that it will remove last element\n"
   ]
  },
  {
   "cell_type": "code",
   "execution_count": 89,
   "id": "d4e31928-28e6-4220-b890-be86279895ec",
   "metadata": {},
   "outputs": [],
   "source": [
    "s.remove(2) # remove specific "
   ]
  },
  {
   "cell_type": "code",
   "execution_count": 91,
   "id": "ca4d4548-2e68-405b-9fcc-853d91b488d9",
   "metadata": {},
   "outputs": [
    {
     "data": {
      "text/plain": [
       "{3, 100}"
      ]
     },
     "execution_count": 91,
     "metadata": {},
     "output_type": "execute_result"
    }
   ],
   "source": [
    "s"
   ]
  },
  {
   "cell_type": "code",
   "execution_count": 92,
   "id": "23bc21e6-4172-4efb-9046-cd5421d719ca",
   "metadata": {},
   "outputs": [],
   "source": [
    "my_fs =  frozenset([1 ,2 ,3 ,4 ,56])\n",
    "#frozenset cant upate , del value\n"
   ]
  },
  {
   "cell_type": "code",
   "execution_count": 93,
   "id": "142d70fb-d87e-4f39-81ac-b2d3b4f43ca5",
   "metadata": {},
   "outputs": [
    {
     "data": {
      "text/plain": [
       "frozenset"
      ]
     },
     "execution_count": 93,
     "metadata": {},
     "output_type": "execute_result"
    }
   ],
   "source": [
    "type(my_fs)"
   ]
  },
  {
   "cell_type": "markdown",
   "id": "fd127036-b046-4953-b478-07eac070f95c",
   "metadata": {},
   "source": [
    " # Question 6\n",
    "## Discuss the use cases of tuples and sets in Python programming"
   ]
  },
  {
   "cell_type": "code",
   "execution_count": 95,
   "id": "f16c25e2-ec14-4075-a44f-e67acaa62d3b",
   "metadata": {},
   "outputs": [
    {
     "data": {
      "text/plain": [
       "(2100, 2101, 2102, 2103, 2104)"
      ]
     },
     "execution_count": 95,
     "metadata": {},
     "output_type": "execute_result"
    }
   ],
   "source": [
    "#use case of tuple\n",
    "# when we don't need to update or del a value in data set\n",
    "\n",
    "student_roll = ( 2100 , 2101 , 2102, 2103 , 2104)\n",
    "student_roll\n"
   ]
  },
  {
   "cell_type": "code",
   "execution_count": 96,
   "id": "c744173b-ed4c-4a4e-8939-0d49ad6b1bcd",
   "metadata": {},
   "outputs": [
    {
     "data": {
      "text/plain": [
       "2100"
      ]
     },
     "execution_count": 96,
     "metadata": {},
     "output_type": "execute_result"
    }
   ],
   "source": [
    "student_roll[0]"
   ]
  },
  {
   "cell_type": "code",
   "execution_count": 97,
   "id": "4990221e-d353-4026-b688-577a16a0e0ce",
   "metadata": {},
   "outputs": [
    {
     "ename": "TypeError",
     "evalue": "'tuple' object does not support item assignment",
     "output_type": "error",
     "traceback": [
      "\u001b[0;31m---------------------------------------------------------------------------\u001b[0m",
      "\u001b[0;31mTypeError\u001b[0m                                 Traceback (most recent call last)",
      "Cell \u001b[0;32mIn[97], line 1\u001b[0m\n\u001b[0;32m----> 1\u001b[0m \u001b[43mstudent_roll\u001b[49m\u001b[43m[\u001b[49m\u001b[38;5;241;43m0\u001b[39;49m\u001b[43m]\u001b[49m \u001b[38;5;241m=\u001b[39m \u001b[38;5;241m100\u001b[39m \n",
      "\u001b[0;31mTypeError\u001b[0m: 'tuple' object does not support item assignment"
     ]
    }
   ],
   "source": [
    " student_roll[0] = 100  #throws error bcz we can't change value"
   ]
  },
  {
   "cell_type": "code",
   "execution_count": 98,
   "id": "5d3aa552-cf89-4134-88eb-585f1710bfe0",
   "metadata": {},
   "outputs": [],
   "source": [
    "#here we don't need to change roll no of students that why we are using tuple\n"
   ]
  },
  {
   "cell_type": "code",
   "execution_count": 99,
   "id": "6d5a2c4f-8b26-47f7-a89f-f50c78321812",
   "metadata": {},
   "outputs": [],
   "source": [
    "# SETS"
   ]
  },
  {
   "cell_type": "code",
   "execution_count": 102,
   "id": "72d179ee-4541-474a-8f91-fcecfca32f80",
   "metadata": {},
   "outputs": [
    {
     "data": {
      "text/plain": [
       "[1, 2, 3, 4, 1, 4, 'apple', 'apple']"
      ]
     },
     "execution_count": 102,
     "metadata": {},
     "output_type": "execute_result"
    }
   ],
   "source": [
    "# set is unorderd and value will not repeat eg-\n",
    "l = [ 1 ,2 ,3 ,4  , 1 , 4 , \"apple\" ,\"apple\"]\n",
    "l"
   ]
  },
  {
   "cell_type": "code",
   "execution_count": 103,
   "id": "7cef99db-3107-4895-a48b-aea44dd24f8e",
   "metadata": {},
   "outputs": [],
   "source": [
    "#here values are repeating so now we can convert it into set\n",
    "\n",
    "s = set(l)"
   ]
  },
  {
   "cell_type": "code",
   "execution_count": 104,
   "id": "b381c4be-5fc2-48a6-858a-5d6975c9dc8d",
   "metadata": {},
   "outputs": [
    {
     "data": {
      "text/plain": [
       "{1, 2, 3, 4, 'apple'}"
      ]
     },
     "execution_count": 104,
     "metadata": {},
     "output_type": "execute_result"
    }
   ],
   "source": [
    "s"
   ]
  },
  {
   "cell_type": "code",
   "execution_count": 105,
   "id": "0dc5aa23-b6e9-489b-af99-c4cc970ba27e",
   "metadata": {},
   "outputs": [],
   "source": [
    "# now here no values repated \n",
    "# THIS CAN BE USED IN GROCERY LIST IN WHICH ITEMS ARE REPEATING\n",
    "\n",
    "# OR ANOTHER USE CASE OF SET IS IN MATHS  OPERATION - UNION , INTERSECTION , DIFFRENECE ETC.\n",
    "\n"
   ]
  },
  {
   "cell_type": "markdown",
   "id": "22807e71-c75d-4a12-878a-98fde976153b",
   "metadata": {},
   "source": [
    "# QUESTION 7\n",
    "\n",
    "##  Describe how to add modify, and delete items in a dictionary with examples.\n"
   ]
  },
  {
   "cell_type": "code",
   "execution_count": 106,
   "id": "842a653a-6860-4efc-932c-c2c32ce19544",
   "metadata": {},
   "outputs": [],
   "source": [
    "#dictionary is a data structure that stores data as key value pair\n",
    "#Keys are unique and immutable"
   ]
  },
  {
   "cell_type": "code",
   "execution_count": 107,
   "id": "2d174631-3f0a-46de-8390-0ae350f46d04",
   "metadata": {},
   "outputs": [
    {
     "data": {
      "text/plain": [
       "{'name': 'amitesg', 'roll': 223, 'conatact': 999}"
      ]
     },
     "execution_count": 107,
     "metadata": {},
     "output_type": "execute_result"
    }
   ],
   "source": [
    "d = { \"name\" : \"amitesg\" , \"roll\" : 223  , \"conatact\" : 999}\n",
    "d"
   ]
  },
  {
   "cell_type": "code",
   "execution_count": 108,
   "id": "72c35997-90cb-43f1-9908-406d3a2938fe",
   "metadata": {},
   "outputs": [
    {
     "data": {
      "text/plain": [
       "dict_keys(['name', 'roll', 'conatact'])"
      ]
     },
     "execution_count": 108,
     "metadata": {},
     "output_type": "execute_result"
    }
   ],
   "source": [
    "d.keys()"
   ]
  },
  {
   "cell_type": "code",
   "execution_count": 109,
   "id": "9ff32efe-d231-404e-8ae7-760cc53e3807",
   "metadata": {},
   "outputs": [
    {
     "data": {
      "text/plain": [
       "dict_values(['amitesg', 223, 999])"
      ]
     },
     "execution_count": 109,
     "metadata": {},
     "output_type": "execute_result"
    }
   ],
   "source": [
    "d.values()"
   ]
  },
  {
   "cell_type": "code",
   "execution_count": 110,
   "id": "79c8db6f-9b46-4a4d-85f8-a9589ee0bcd3",
   "metadata": {},
   "outputs": [
    {
     "data": {
      "text/plain": [
       "'amitesg'"
      ]
     },
     "execution_count": 110,
     "metadata": {},
     "output_type": "execute_result"
    }
   ],
   "source": [
    "d[\"name\"]\n"
   ]
  },
  {
   "cell_type": "code",
   "execution_count": 111,
   "id": "9e8dff5d-b982-4982-9887-5452e2b73411",
   "metadata": {},
   "outputs": [],
   "source": [
    "#add new key val'\n",
    "d[\"marks\"] = 100"
   ]
  },
  {
   "cell_type": "code",
   "execution_count": 112,
   "id": "b01a6238-38f4-48b1-b409-5d108dfc350a",
   "metadata": {},
   "outputs": [
    {
     "data": {
      "text/plain": [
       "{'name': 'amitesg', 'roll': 223, 'conatact': 999, 'marks': 100}"
      ]
     },
     "execution_count": 112,
     "metadata": {},
     "output_type": "execute_result"
    }
   ],
   "source": [
    "d"
   ]
  },
  {
   "cell_type": "code",
   "execution_count": 113,
   "id": "51a65edf-ffce-4053-9eee-8562a6df8dd6",
   "metadata": {},
   "outputs": [],
   "source": [
    "#modify values \n",
    "d[\"name\"] = \"RAjat bhai\""
   ]
  },
  {
   "cell_type": "code",
   "execution_count": 114,
   "id": "3260af30-0009-4f8e-a37c-c1be95cbef8b",
   "metadata": {},
   "outputs": [
    {
     "data": {
      "text/plain": [
       "{'name': 'RAjat bhai', 'roll': 223, 'conatact': 999, 'marks': 100}"
      ]
     },
     "execution_count": 114,
     "metadata": {},
     "output_type": "execute_result"
    }
   ],
   "source": [
    "d"
   ]
  },
  {
   "cell_type": "code",
   "execution_count": 115,
   "id": "d8d0176b-4dc3-46fa-904a-3b146e926298",
   "metadata": {},
   "outputs": [],
   "source": [
    "d.update({\"roll\" : 35}) # update method"
   ]
  },
  {
   "cell_type": "code",
   "execution_count": 116,
   "id": "67a39df5-f533-4853-a033-e1bc5c599d78",
   "metadata": {},
   "outputs": [
    {
     "data": {
      "text/plain": [
       "{'name': 'RAjat bhai', 'roll': 35, 'conatact': 999, 'marks': 100}"
      ]
     },
     "execution_count": 116,
     "metadata": {},
     "output_type": "execute_result"
    }
   ],
   "source": [
    "d"
   ]
  },
  {
   "cell_type": "code",
   "execution_count": 118,
   "id": "7495943f-34e8-4856-92c6-5a3cbbb8779c",
   "metadata": {},
   "outputs": [
    {
     "data": {
      "text/plain": [
       "100"
      ]
     },
     "execution_count": 118,
     "metadata": {},
     "output_type": "execute_result"
    }
   ],
   "source": [
    "d.pop(\"marks\") # del sepcific key value"
   ]
  },
  {
   "cell_type": "code",
   "execution_count": 119,
   "id": "8106040b-9bc7-4ffe-9d6c-e3fae9219dfc",
   "metadata": {},
   "outputs": [],
   "source": [
    "d.clear() # clear whole dict"
   ]
  },
  {
   "cell_type": "code",
   "execution_count": 120,
   "id": "e84c0924-88a7-4bfa-890c-fef783d9ef93",
   "metadata": {},
   "outputs": [
    {
     "data": {
      "text/plain": [
       "{}"
      ]
     },
     "execution_count": 120,
     "metadata": {},
     "output_type": "execute_result"
    }
   ],
   "source": [
    "d"
   ]
  },
  {
   "cell_type": "code",
   "execution_count": 121,
   "id": "5e448af6-3365-49f6-868b-2b59b23bbd9d",
   "metadata": {},
   "outputs": [],
   "source": [
    "del d # delete whole d"
   ]
  },
  {
   "cell_type": "markdown",
   "id": "1864b952-6c3d-44d5-a9cd-0ebacea223a1",
   "metadata": {},
   "source": [
    "# Question 8\n",
    " ##  Discuss the importance of dictionary keys being immutable and provide example"
   ]
  },
  {
   "cell_type": "code",
   "execution_count": 122,
   "id": "76b41cb2-53ce-4dad-bbaf-002593b6551a",
   "metadata": {},
   "outputs": [],
   "source": [
    "#Dictionary keys must be immutable types, such as strings, numbers, or tuples (containing only immutable elements).\n",
    "#The immutability of dictionary keys is  for the two  reasons:\n",
    "# 1 ) hashing  ( should not be unhashable type\n",
    "# 2 ) efficency "
   ]
  },
  {
   "cell_type": "code",
   "execution_count": 125,
   "id": "369d1b93-203d-4bff-8cc6-34fd6701451f",
   "metadata": {},
   "outputs": [
    {
     "ename": "TypeError",
     "evalue": "unhashable type: 'set'",
     "output_type": "error",
     "traceback": [
      "\u001b[0;31m---------------------------------------------------------------------------\u001b[0m",
      "\u001b[0;31mTypeError\u001b[0m                                 Traceback (most recent call last)",
      "Cell \u001b[0;32mIn[125], line 2\u001b[0m\n\u001b[1;32m      1\u001b[0m \u001b[38;5;66;03m#(d in d not possible_\u001b[39;00m\n\u001b[0;32m----> 2\u001b[0m d \u001b[38;5;241m=\u001b[39m {{\u001b[38;5;124m\"\u001b[39m\u001b[38;5;124md\u001b[39m\u001b[38;5;124m\"\u001b[39m}:\u001b[38;5;241m3\u001b[39m}\n",
      "\u001b[0;31mTypeError\u001b[0m: unhashable type: 'set'"
     ]
    }
   ],
   "source": [
    " #set in d not possible_\n",
    "d = {{\"d\"}:3}"
   ]
  },
  {
   "cell_type": "code",
   "execution_count": 124,
   "id": "dbe3c7eb-55d5-4591-a981-50249f64157e",
   "metadata": {},
   "outputs": [
    {
     "ename": "TypeError",
     "evalue": "unhashable type: 'list'",
     "output_type": "error",
     "traceback": [
      "\u001b[0;31m---------------------------------------------------------------------------\u001b[0m",
      "\u001b[0;31mTypeError\u001b[0m                                 Traceback (most recent call last)",
      "Cell \u001b[0;32mIn[124], line 1\u001b[0m\n\u001b[0;32m----> 1\u001b[0m d \u001b[38;5;241m=\u001b[39m {[\u001b[38;5;241m1\u001b[39m,\u001b[38;5;241m3\u001b[39m] : \u001b[38;5;241m23\u001b[39m} \u001b[38;5;66;03m#unhashable\u001b[39;00m\n",
      "\u001b[0;31mTypeError\u001b[0m: unhashable type: 'list'"
     ]
    }
   ],
   "source": [
    "d = {[1,3] : 23} #unhashable - list is aslo not work here"
   ]
  },
  {
   "cell_type": "code",
   "execution_count": 126,
   "id": "73c6a9a2-a60a-4f03-97ea-4d73b6b9c197",
   "metadata": {},
   "outputs": [],
   "source": [
    "d = { (1,43,2) : \"am\"} #tuple is hashable so we can use it here\n"
   ]
  },
  {
   "cell_type": "code",
   "execution_count": 127,
   "id": "59b9ebdf-6d9a-4182-aefd-4d7f2fa1d647",
   "metadata": {},
   "outputs": [
    {
     "data": {
      "text/plain": [
       "{(1, 43, 2): 'am'}"
      ]
     },
     "execution_count": 127,
     "metadata": {},
     "output_type": "execute_result"
    }
   ],
   "source": [
    "d"
   ]
  },
  {
   "cell_type": "code",
   "execution_count": 128,
   "id": "377556c7-5631-44a1-9446-b9e87b0fbe59",
   "metadata": {},
   "outputs": [],
   "source": [
    "#key in dict indicates thier values and thier  index also  , so key must be hashable ( Immutable objects)"
   ]
  },
  {
   "cell_type": "code",
   "execution_count": null,
   "id": "15cda92e-38dc-4a3d-8286-0d53768386d1",
   "metadata": {},
   "outputs": [],
   "source": []
  }
 ],
 "metadata": {
  "kernelspec": {
   "display_name": "Python 3 (ipykernel)",
   "language": "python",
   "name": "python3"
  },
  "language_info": {
   "codemirror_mode": {
    "name": "ipython",
    "version": 3
   },
   "file_extension": ".py",
   "mimetype": "text/x-python",
   "name": "python",
   "nbconvert_exporter": "python",
   "pygments_lexer": "ipython3",
   "version": "3.10.8"
  }
 },
 "nbformat": 4,
 "nbformat_minor": 5
}
